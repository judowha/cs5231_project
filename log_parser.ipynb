{
 "cells": [
  {
   "cell_type": "code",
   "execution_count": 1,
   "metadata": {},
   "outputs": [],
   "source": [
    "import json"
   ]
  },
  {
   "cell_type": "code",
   "execution_count": 2,
   "metadata": {},
   "outputs": [],
   "source": [
    "import json\n",
    "pid_dict = {}\n",
    "# Define the path to your log file\n",
    "log_file_path = './auditbeat_output.ndjson'\n",
    "detection_point = []\n",
    "records = []\n",
    "# Open the log file\n",
    "with open(log_file_path, 'r') as file:\n",
    "    for line in file:\n",
    "        try:\n",
    "            # Parse each line as JSON\n",
    "            log_entry = json.loads(line)   \n",
    "            records.append(log_entry)         \n",
    "            # Check if the log entry contains 'malicious program'\n",
    "            if 'secret.txt' in json.dumps(log_entry) and \"auditd\" in log_entry: \n",
    "                detection_point.append(log_entry)\n",
    "            \n",
    "        except json.JSONDecodeError:\n",
    "            # Skip lines that are not valid JSON\n",
    "            continue"
   ]
  },
  {
   "cell_type": "code",
   "execution_count": null,
   "metadata": {},
   "outputs": [],
   "source": [
    "# backward track\n",
    "interpret = {}\n",
    "while len(detection_point) != 0:\n",
    "    i = detection_point.pop(0)\n",
    "    parent = i[\"process\"].get(\"parent\").get(\"pid\")\n",
    "    pid = i[\"process\"].get(\"pid\")\n",
    "    syscall = i[\"auditd\"][\"data\"].get(\"syscall\")\n",
    "    paths = i.get(\"auditd\", {}).get(\"paths\", [])\n",
    "    primary_object = []\n",
    "    if len(paths) > 0:\n",
    "        for path in paths:\n",
    "            primary_object.append(path.get(\"name\", None))\n",
    "    for j in records:\n",
    "        if \"process\" in j and j[\"process\"].get(\"pid\") == parent:\n",
    "            detection_point.append(j)\n",
    "    if pid in interpret:\n",
    "        interpret[pid][0].append(syscall)\n",
    "        interpret[pid][1].append(primary_object)\n",
    "    else:\n",
    "        interpret[pid] =  ([syscall], [primary_object], parent)\n",
    "    \n",
    "    # Append the tuple to the list\n"
   ]
  },
  {
   "cell_type": "code",
   "execution_count": null,
   "metadata": {},
   "outputs": [
    {
     "data": {
      "text/plain": [
       "{144871: (['openat'], [['/home/student/secret/secret.txt']], 144870),\n",
       " 144870: (['execve',\n",
       "   'setresuid',\n",
       "   'openat',\n",
       "   'openat',\n",
       "   'setresuid',\n",
       "   'setuid',\n",
       "   'setgid'],\n",
       "  [['/usr/bin/sudo', '/lib64/ld-linux-x86-64.so.2'],\n",
       "   [],\n",
       "   ['/etc/sudoers'],\n",
       "   ['/etc/shadow'],\n",
       "   [],\n",
       "   [],\n",
       "   []],\n",
       "  144797),\n",
       " 144797: (['execve',\n",
       "   'execve',\n",
       "   'execve',\n",
       "   'execve',\n",
       "   'execve',\n",
       "   'execve',\n",
       "   'execve'],\n",
       "  [['./run-attack.sh', '/bin/bash', '/lib64/ld-linux-x86-64.so.2'],\n",
       "   ['./run-attack.sh', '/bin/bash', '/lib64/ld-linux-x86-64.so.2'],\n",
       "   ['./run-attack.sh', '/bin/bash', '/lib64/ld-linux-x86-64.so.2'],\n",
       "   ['./run-attack.sh', '/bin/bash', '/lib64/ld-linux-x86-64.so.2'],\n",
       "   ['./run-attack.sh', '/bin/bash', '/lib64/ld-linux-x86-64.so.2'],\n",
       "   ['./run-attack.sh', '/bin/bash', '/lib64/ld-linux-x86-64.so.2'],\n",
       "   ['./run-attack.sh', '/bin/bash', '/lib64/ld-linux-x86-64.so.2']],\n",
       "  2354)}"
      ]
     },
     "execution_count": 6,
     "metadata": {},
     "output_type": "execute_result"
    }
   ],
   "source": [
    "# find root pid = 2354\n",
    "interpret"
   ]
  },
  {
   "cell_type": "code",
   "execution_count": null,
   "metadata": {},
   "outputs": [],
   "source": [
    "# construct pid tree \n",
    "pid_tree = {}\n",
    "for record in reversed(records):\n",
    "    if \"process\" in record:\n",
    "        pid = record[\"process\"].get(\"pid\")\n",
    "        parent = record[\"process\"].get(\"parent\").get(\"pid\")\n",
    "        child_list = pid_tree.get(parent, set())\n",
    "        child_list.add(pid)\n",
    "        pid_tree[parent] = child_list\n",
    "# forward track from the root\n",
    "target_pids = set()\n",
    "pid_stack = [2354]\n",
    "\n",
    "while len(pid_stack) != 0:\n",
    "    target_pid = pid_stack.pop(0)\n",
    "    if target_pid in pid_tree:\n",
    "        children = pid_tree[target_pid]\n",
    "        target_pids = target_pids.union(children) \n",
    "        pid_stack.extend(list(children))"
   ]
  },
  {
   "cell_type": "code",
   "execution_count": 10,
   "metadata": {},
   "outputs": [
    {
     "data": {
      "text/plain": [
       "{144797,\n",
       " 144798,\n",
       " 144799,\n",
       " 144802,\n",
       " 144803,\n",
       " 144805,\n",
       " 144806,\n",
       " 144808,\n",
       " 144809,\n",
       " 144811,\n",
       " 144812,\n",
       " 144814,\n",
       " 144815,\n",
       " 144817,\n",
       " 144818,\n",
       " 144820,\n",
       " 144821,\n",
       " 144832,\n",
       " 144834,\n",
       " 144837,\n",
       " 144838,\n",
       " 144840,\n",
       " 144841,\n",
       " 144843,\n",
       " 144844,\n",
       " 144846,\n",
       " 144847,\n",
       " 144848,\n",
       " 144849,\n",
       " 144850,\n",
       " 144851,\n",
       " 144852,\n",
       " 144853,\n",
       " 144854,\n",
       " 144855,\n",
       " 144856,\n",
       " 144857,\n",
       " 144858,\n",
       " 144859,\n",
       " 144860,\n",
       " 144861,\n",
       " 144863,\n",
       " 144864,\n",
       " 144865,\n",
       " 144867,\n",
       " 144868,\n",
       " 144869,\n",
       " 144870,\n",
       " 144871,\n",
       " 144873,\n",
       " 144875}"
      ]
     },
     "execution_count": 10,
     "metadata": {},
     "output_type": "execute_result"
    }
   ],
   "source": [
    "target_pids"
   ]
  }
 ],
 "metadata": {
  "kernelspec": {
   "display_name": "Python 3",
   "language": "python",
   "name": "python3"
  },
  "language_info": {
   "codemirror_mode": {
    "name": "ipython",
    "version": 3
   },
   "file_extension": ".py",
   "mimetype": "text/x-python",
   "name": "python",
   "nbconvert_exporter": "python",
   "pygments_lexer": "ipython3",
   "version": "3.11.9"
  }
 },
 "nbformat": 4,
 "nbformat_minor": 2
}
