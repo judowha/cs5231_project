{
 "cells": [
  {
   "cell_type": "code",
   "execution_count": 283,
   "metadata": {},
   "outputs": [],
   "source": [
    "import os\n",
    "import numpy as np\n",
    "import torch\n",
    "import torch.nn as nn\n",
    "import torch.optim as optim\n",
    "from torch.utils.data import DataLoader, Dataset, random_split\n",
    "from sklearn.metrics import confusion_matrix\n",
    "import matplotlib.pyplot as plt\n",
    "import seaborn as sns"
   ]
  },
  {
   "cell_type": "code",
   "execution_count": 284,
   "metadata": {},
   "outputs": [],
   "source": [
    "import numpy as np\n",
    "from sklearn.model_selection import train_test_split\n",
    "input_size = 50\n",
    "num_filters = 128\n",
    "kernel_size = 5\n",
    "output_size = 1\n",
    "epochs = 100\n",
    "learning_rate = 0.005\n",
    "batch_size = 256\n",
    "\n",
    "\n",
    "class ADFA_Dataset(Dataset):\n",
    "    def __init__(self, files, label):\n",
    "        self.samples = []\n",
    "        self.labels = []\n",
    "        self.max_len = 0\n",
    "        for file in files:\n",
    "            with open(file, 'r') as f:\n",
    "                system_calls = [int(call) for call in f.read().split()]\n",
    "                self.samples.append(system_calls)\n",
    "                self.labels.append(label)\n",
    "\n",
    "\n",
    "    def __len__(self):\n",
    "        return len(self.samples)\n",
    "\n",
    "    def __getitem__(self, idx):\n",
    "        sample = torch.tensor(self.samples[idx], dtype=torch.float)\n",
    "        if len(sample) < input_size:\n",
    "            sample = torch.cat((sample, torch.zeros(input_size - len(sample))))\n",
    "        else:\n",
    "            sample = sample[:input_size]\n",
    "        return sample, torch.tensor(self.labels[idx], dtype=torch.float)\n"
   ]
  },
  {
   "cell_type": "code",
   "execution_count": 285,
   "metadata": {},
   "outputs": [],
   "source": [
    "data_dir_train = \"Training_Data_Master\"\n",
    "data_dir_attack = \"Attack_Data_Master\"\n",
    "data_dir_valid = \"Validation_Data_Master\"\n",
    "\n",
    "train_ben_file_path = []\n",
    "for file in os.listdir(data_dir_train):\n",
    "    train_ben_file_path.append(os.path.join(data_dir_train, file))\n",
    "\n",
    "test_ben_file_path = []\n",
    "for file in os.listdir(data_dir_valid):\n",
    "    test_ben_file_path.append(os.path.join(data_dir_valid, file))\n",
    "\n",
    "train_attack_path = []\n",
    "test_attack_path = []\n",
    "for attack_type in os.listdir(data_dir_attack):\n",
    "    attack_type_path = os.path.join(data_dir_attack, attack_type)\n",
    "    if os.path.isdir(attack_type_path):\n",
    "        attack_files = [os.path.join(data_dir_attack, attack_type, i) for i in os.listdir(attack_type_path)]\n",
    "        train, test = train_test_split(attack_files, test_size=0.2, random_state=42)\n",
    "        train_attack_path.extend(train)\n",
    "        test_attack_path.extend(test)\n",
    "        "
   ]
  },
  {
   "cell_type": "code",
   "execution_count": 286,
   "metadata": {},
   "outputs": [],
   "source": [
    "train_ben_data = ADFA_Dataset(train_ben_file_path, label=0)\n",
    "train_attack_data = ADFA_Dataset(train_attack_path, label=1)\n",
    "train_loader = DataLoader(train_ben_data + train_attack_data, batch_size=batch_size, shuffle=True)\n",
    "\n",
    "test_ben_data = ADFA_Dataset(test_ben_file_path, label=0)\n",
    "test_attack_data = ADFA_Dataset(test_attack_path, label=1)\n",
    "test_loader = DataLoader(test_ben_data + test_attack_data, batch_size=batch_size, shuffle=True)"
   ]
  },
  {
   "cell_type": "code",
   "execution_count": 287,
   "metadata": {},
   "outputs": [],
   "source": [
    "# Step 2: Define CNN Model\n",
    "class CNNNetwork(nn.Module):\n",
    "    def __init__(self, input_size, num_filters, kernel_size, output_size, dropout_prob):\n",
    "        super(CNNNetwork, self).__init__()\n",
    "        self.model = nn.Sequential(\n",
    "            nn.Conv1d(in_channels=1, out_channels=num_filters, kernel_size=kernel_size, stride=1, padding=kernel_size//2),\n",
    "            nn.MaxPool1d(2),\n",
    "            nn.BatchNorm1d([num_filters]),\n",
    "            nn.LeakyReLU(),\n",
    "            nn.Conv1d(in_channels=num_filters, out_channels=num_filters * 2, kernel_size=kernel_size, stride=1, padding=kernel_size//2),\n",
    "            nn.MaxPool1d(2),\n",
    "            nn.BatchNorm1d([num_filters * 2]),\n",
    "            nn.LeakyReLU(),\n",
    "            nn.Conv1d(in_channels=num_filters*2, out_channels=num_filters * 3, kernel_size=kernel_size, stride=1, padding=kernel_size//2),\n",
    "            nn.MaxPool1d(2),\n",
    "            nn.BatchNorm1d([num_filters * 3]),\n",
    "            nn.LeakyReLU(),\n",
    "            \n",
    "        )\n",
    "        self.model2 = nn.Sequential(\n",
    "            nn.Linear(num_filters * 3 * (input_size // 8), 128),\n",
    "            nn.BatchNorm1d(128),\n",
    "            nn.LeakyReLU(),\n",
    "            # nn.Dropout(dropout_prob),\n",
    "            nn.Linear(128, output_size)\n",
    "        )\n",
    "\n",
    "        \n",
    "    def forward(self, x):\n",
    "        x = x.unsqueeze(1)  # Add channel dimension for CNN\n",
    "        x = self.model(x)\n",
    "        x = x.view(x.size(0), -1)  # Flatten\n",
    "        out = self.model2(x)\n",
    "        return out\n"
   ]
  },
  {
   "cell_type": "code",
   "execution_count": 288,
   "metadata": {},
   "outputs": [
    {
     "name": "stdout",
     "output_type": "stream",
     "text": [
      "Epoch [1/100], Loss: 0.6258\n",
      "Epoch [2/100], Loss: 0.4965\n",
      "Epoch [3/100], Loss: 0.4605\n",
      "Epoch [4/100], Loss: 0.4026\n",
      "Epoch [5/100], Loss: 0.3431\n",
      "Epoch [6/100], Loss: 0.2849\n",
      "Epoch [7/100], Loss: 0.2648\n",
      "Epoch [8/100], Loss: 0.2305\n",
      "Epoch [9/100], Loss: 0.1858\n",
      "Epoch [10/100], Loss: 0.1318\n",
      "Epoch [11/100], Loss: 0.0904\n",
      "Epoch [12/100], Loss: 0.0757\n",
      "Epoch [13/100], Loss: 0.0584\n",
      "Epoch [14/100], Loss: 0.0582\n",
      "Epoch [15/100], Loss: 0.0649\n",
      "Epoch [16/100], Loss: 0.0481\n",
      "Epoch [17/100], Loss: 0.0712\n",
      "Epoch [18/100], Loss: 0.0599\n",
      "Epoch [19/100], Loss: 0.0486\n",
      "Epoch [20/100], Loss: 0.0475\n",
      "Epoch [21/100], Loss: 0.0394\n",
      "Epoch [22/100], Loss: 0.0391\n",
      "Epoch [23/100], Loss: 0.0400\n",
      "Epoch [24/100], Loss: 0.0392\n",
      "Epoch [25/100], Loss: 0.0365\n",
      "Epoch [26/100], Loss: 0.0398\n",
      "Epoch [27/100], Loss: 0.0540\n",
      "Epoch [28/100], Loss: 0.0523\n",
      "Epoch [29/100], Loss: 0.0476\n",
      "Epoch [30/100], Loss: 0.0369\n",
      "Epoch [31/100], Loss: 0.0375\n",
      "Epoch [32/100], Loss: 0.0354\n",
      "Epoch [33/100], Loss: 0.0347\n",
      "Epoch [34/100], Loss: 0.0370\n",
      "Epoch [35/100], Loss: 0.0302\n",
      "Epoch [36/100], Loss: 0.0306\n",
      "Epoch [37/100], Loss: 0.0322\n",
      "Epoch [38/100], Loss: 0.0301\n",
      "Epoch [39/100], Loss: 0.0297\n",
      "Epoch [40/100], Loss: 0.0317\n",
      "Epoch [41/100], Loss: 0.0319\n",
      "Epoch [42/100], Loss: 0.0314\n",
      "Epoch [43/100], Loss: 0.0290\n",
      "Epoch [44/100], Loss: 0.0284\n",
      "Epoch [45/100], Loss: 0.0295\n",
      "Epoch [46/100], Loss: 0.0297\n",
      "Epoch [47/100], Loss: 0.0314\n",
      "Epoch [48/100], Loss: 0.0299\n",
      "Epoch [49/100], Loss: 0.0313\n",
      "Epoch [50/100], Loss: 0.0310\n",
      "Epoch [51/100], Loss: 0.0312\n",
      "Epoch [52/100], Loss: 0.0282\n",
      "Epoch [53/100], Loss: 0.0288\n",
      "Epoch [54/100], Loss: 0.0280\n",
      "Epoch [55/100], Loss: 0.0300\n",
      "Epoch [56/100], Loss: 0.0315\n",
      "Epoch [57/100], Loss: 0.0287\n",
      "Epoch [58/100], Loss: 0.0298\n",
      "Epoch [59/100], Loss: 0.0287\n",
      "Epoch [60/100], Loss: 0.0288\n",
      "Epoch [61/100], Loss: 0.0284\n",
      "Epoch [62/100], Loss: 0.0303\n",
      "Epoch [63/100], Loss: 0.0295\n",
      "Epoch [64/100], Loss: 0.0287\n",
      "Epoch [65/100], Loss: 0.0314\n",
      "Epoch [66/100], Loss: 0.0276\n",
      "Epoch [67/100], Loss: 0.0294\n",
      "Epoch [68/100], Loss: 0.0283\n",
      "Epoch [69/100], Loss: 0.0277\n",
      "Epoch [70/100], Loss: 0.0313\n",
      "Epoch [71/100], Loss: 0.0291\n",
      "Epoch [72/100], Loss: 0.0361\n",
      "Epoch [73/100], Loss: 0.0317\n",
      "Epoch [74/100], Loss: 0.0440\n",
      "Epoch [75/100], Loss: 0.0680\n",
      "Epoch [76/100], Loss: 0.1516\n",
      "Epoch [77/100], Loss: 0.1205\n",
      "Epoch [78/100], Loss: 0.1254\n",
      "Epoch [79/100], Loss: 0.0949\n",
      "Epoch [80/100], Loss: 0.0713\n",
      "Epoch [81/100], Loss: 0.0557\n",
      "Epoch [82/100], Loss: 0.0426\n",
      "Epoch [83/100], Loss: 0.0395\n",
      "Epoch [84/100], Loss: 0.0368\n",
      "Epoch [85/100], Loss: 0.0329\n",
      "Epoch [86/100], Loss: 0.0354\n",
      "Epoch [87/100], Loss: 0.0359\n",
      "Epoch [88/100], Loss: 0.0329\n",
      "Epoch [89/100], Loss: 0.0330\n",
      "Epoch [90/100], Loss: 0.0301\n",
      "Epoch [91/100], Loss: 0.0315\n",
      "Epoch [92/100], Loss: 0.0306\n",
      "Epoch [93/100], Loss: 0.0278\n",
      "Epoch [94/100], Loss: 0.0290\n",
      "Epoch [95/100], Loss: 0.0311\n",
      "Epoch [96/100], Loss: 0.0305\n",
      "Epoch [97/100], Loss: 0.0299\n",
      "Epoch [98/100], Loss: 0.0276\n",
      "Epoch [99/100], Loss: 0.0286\n",
      "Epoch [100/100], Loss: 0.0314\n"
     ]
    },
    {
     "data": {
      "image/png": "[encoded data removed]",
      "text/plain": [
       "<Figure size 640x480 with 2 Axes>"
      ]
     },
     "metadata": {},
     "output_type": "display_data"
    }
   ],
   "source": [
    "# Step 4: Define Model, Loss, and Optimizer\n",
    "device = torch.device(\"cuda\" if torch.cuda.is_available() else \"cpu\")\n",
    "model = CNNNetwork(input_size, num_filters, kernel_size, output_size, 0).to(device)\n",
    "criterion = nn.BCEWithLogitsLoss()\n",
    "optimizer = optim.AdamW(model.parameters(), lr=learning_rate)\n",
    "\n",
    "# Step 5: Training Loop\n",
    "for epoch in range(epochs):\n",
    "    model.train()\n",
    "    running_loss = 0.0\n",
    "    for inputs, labels in train_loader:\n",
    "        inputs, labels = inputs.to(device), labels.to(device)\n",
    "        \n",
    "        # Forward pass\n",
    "        outputs = model(inputs)\n",
    "        loss = criterion(outputs.squeeze(), labels)\n",
    "        \n",
    "        # Backward pass\n",
    "        optimizer.zero_grad()\n",
    "        loss.backward()\n",
    "        optimizer.step()\n",
    "        \n",
    "        running_loss += loss.item()\n",
    "    \n",
    "    print(f'Epoch [{epoch+1}/{epochs}], Loss: {running_loss/len(train_loader):.4f}')\n",
    "\n",
    "# Step 6: Validation Loop\n",
    "model.eval()\n",
    "all_labels = []\n",
    "all_predictions = []\n",
    "with torch.no_grad():\n",
    "    for inputs, labels in test_loader:\n",
    "        inputs, labels = inputs.to(device), labels.to(device)\n",
    "        outputs = model(inputs)\n",
    "        predicted = torch.round(torch.sigmoid(outputs.squeeze()))\n",
    "        all_labels.extend(labels.cpu().numpy())\n",
    "        all_predictions.extend(predicted.cpu().numpy())\n",
    "\n",
    "conf_matrix = confusion_matrix(all_labels, all_predictions)\n",
    "sns.heatmap(conf_matrix, annot=True, fmt='d', cmap='Blues')\n",
    "plt.xlabel('Predicted')\n",
    "plt.ylabel('Actual')\n",
    "plt.title('Confusion Matrix')\n",
    "plt.show()\n"
   ]
  },
  {
   "cell_type": "code",
   "execution_count": 289,
   "metadata": {},
   "outputs": [],
   "source": [
    "acc = (conf_matrix[0][0] + conf_matrix[1][1])/conf_matrix.sum()\n",
    "TPR = conf_matrix[1][1] / (conf_matrix[1][1] + conf_matrix[1][0])\n",
    "FPR = conf_matrix[0][0] / (conf_matrix[0][0] + conf_matrix[0][1])"
   ]
  },
  {
   "cell_type": "code",
   "execution_count": 290,
   "metadata": {},
   "outputs": [
    {
     "data": {
      "text/plain": [
       "(0.8198812403782714, 0.8685714285714285, 0.817932296431839)"
      ]
     },
     "execution_count": 290,
     "metadata": {},
     "output_type": "execute_result"
    }
   ],
   "source": [
    "acc, TPR, FPR"
   ]
  },
  {
   "cell_type": "code",
   "execution_count": 291,
   "metadata": {},
   "outputs": [
    {
     "data": {
      "text/plain": [
       "571"
      ]
     },
     "execution_count": 291,
     "metadata": {},
     "output_type": "execute_result"
    }
   ],
   "source": [
    "len(train_attack_data)"
   ]
  },
  {
   "cell_type": "code",
   "execution_count": 292,
   "metadata": {},
   "outputs": [
    {
     "data": {
      "text/plain": [
       "175"
      ]
     },
     "execution_count": 292,
     "metadata": {},
     "output_type": "execute_result"
    }
   ],
   "source": [
    "len(test_attack_data)"
   ]
  },
  {
   "cell_type": "code",
   "execution_count": 293,
   "metadata": {},
   "outputs": [
    {
     "data": {
      "text/plain": [
       "833"
      ]
     },
     "execution_count": 293,
     "metadata": {},
     "output_type": "execute_result"
    }
   ],
   "source": [
    "len(train_ben_data)"
   ]
  },
  {
   "cell_type": "code",
   "execution_count": 294,
   "metadata": {},
   "outputs": [
    {
     "data": {
      "text/plain": [
       "4372"
      ]
     },
     "execution_count": 294,
     "metadata": {},
     "output_type": "execute_result"
    }
   ],
   "source": [
    "len(test_ben_data)"
   ]
  },
  {
   "cell_type": "code",
   "execution_count": null,
   "metadata": {},
   "outputs": [],
   "source": []
  }
 ],
 "metadata": {
  "kernelspec": {
   "display_name": "Python 3",
   "language": "python",
   "name": "python3"
  },
  "language_info": {
   "codemirror_mode": {
    "name": "ipython",
    "version": 3
   },
   "file_extension": ".py",
   "mimetype": "text/x-python",
   "name": "python",
   "nbconvert_exporter": "python",
   "pygments_lexer": "ipython3",
   "version": "3.11.9"
  }
 },
 "nbformat": 4,
 "nbformat_minor": 2
}
